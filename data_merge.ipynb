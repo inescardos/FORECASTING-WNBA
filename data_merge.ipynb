{
 "cells": [
  {
   "cell_type": "markdown",
   "metadata": {},
   "source": [
    "## Imports"
   ]
  },
  {
   "cell_type": "code",
   "execution_count": 1,
   "metadata": {},
   "outputs": [],
   "source": [
    "import pandas as pd"
   ]
  },
  {
   "cell_type": "code",
   "execution_count": 2,
   "metadata": {},
   "outputs": [],
   "source": [
    "df_awards_players = pd.read_csv('data/awards_players_processed.csv')\n",
    "df_coaches = pd.read_csv('data/coaches_processed.csv')\n",
    "df_players_teams = pd.read_csv('data/players_teams_processed.csv')\n",
    "df_players = pd.read_csv('data/players_processed.csv')\n",
    "df_series_post = pd.read_csv('data/series_post_processed.csv')\n",
    "df_teams = pd.read_csv('data/teams_processed.csv')\n",
    "df_teams_post = pd.read_csv('data/teams_post_processed.csv')"
   ]
  },
  {
   "cell_type": "markdown",
   "metadata": {},
   "source": [
    "## Merge datasets"
   ]
  },
  {
   "cell_type": "markdown",
   "metadata": {},
   "source": [
    "Agregate data from players team, players info and awards."
   ]
  },
  {
   "cell_type": "code",
   "execution_count": 3,
   "metadata": {},
   "outputs": [
    {
     "name": "stdout",
     "output_type": "stream",
     "text": [
      "<class 'pandas.core.frame.DataFrame'>\n",
      "RangeIndex: 1290 entries, 0 to 1289\n",
      "Data columns (total 28 columns):\n",
      " #   Column                Non-Null Count  Dtype  \n",
      "---  ------                --------------  -----  \n",
      " 0   playerID              1290 non-null   object \n",
      " 1   year                  1290 non-null   int64  \n",
      " 2   tmID                  1290 non-null   object \n",
      " 3   GP                    1290 non-null   float64\n",
      " 4   GS                    1290 non-null   float64\n",
      " 5   minutes               1290 non-null   float64\n",
      " 6   oRebounds             1290 non-null   float64\n",
      " 7   dRebounds             1290 non-null   float64\n",
      " 8   dq                    1290 non-null   float64\n",
      " 9   PostGP                1290 non-null   float64\n",
      " 10  PostGS                1290 non-null   float64\n",
      " 11  PostMinutes           1290 non-null   float64\n",
      " 12  PostoRebounds         1290 non-null   float64\n",
      " 13  PostdRebounds         1290 non-null   float64\n",
      " 14  PostDQ                1290 non-null   float64\n",
      " 15  Postperformance       1290 non-null   float64\n",
      " 16  performance           1290 non-null   float64\n",
      " 17  points_precision      1290 non-null   float64\n",
      " 18  Postpoints_precision  1290 non-null   float64\n",
      " 19  bioID                 1290 non-null   object \n",
      " 20  pos                   1290 non-null   object \n",
      " 21  height                1290 non-null   float64\n",
      " 22  weight                1290 non-null   float64\n",
      " 23  college               1290 non-null   object \n",
      " 24  collegeOther          1290 non-null   object \n",
      " 25  birthDate             1290 non-null   object \n",
      " 26  deathDate             1290 non-null   object \n",
      " 27  award_count           1290 non-null   float64\n",
      "dtypes: float64(19), int64(1), object(8)\n",
      "memory usage: 282.3+ KB\n"
     ]
    }
   ],
   "source": [
    "players_teams_info_df = pd.merge(df_players_teams, df_players, left_on='playerID', right_on='bioID', how='left')\n",
    "players_teams_info_df = pd.merge(players_teams_info_df, df_awards_players, on=['playerID', 'year'], how='left').fillna(0)\n",
    "players_teams_info_df.info()"
   ]
  },
  {
   "cell_type": "markdown",
   "metadata": {},
   "source": [
    "For each team and year agregate the statistics of the players in the team and join it to the Teams dataset."
   ]
  },
  {
   "cell_type": "code",
   "execution_count": 4,
   "metadata": {},
   "outputs": [],
   "source": [
    "\n",
    "agg_players_df = players_teams_info_df.groupby([\"year\", \"tmID\"]).agg({\n",
    "    \"GP\": \"mean\",\n",
    "    \"GS\": \"mean\",\n",
    "    \"minutes\": \"mean\",\n",
    "    \"oRebounds\": \"mean\",\n",
    "    \"dRebounds\": \"mean\",\n",
    "    \"dq\": \"mean\",\n",
    "    \"PostGP\": \"mean\",\n",
    "    \"PostGS\": \"mean\",\n",
    "    \"PostMinutes\": \"mean\",\n",
    "    \"PostoRebounds\": \"mean\",\n",
    "    \"PostdRebounds\": \"mean\",\n",
    "    \"performance\": \"mean\",\n",
    "    \"Postperformance\": \"mean\",\n",
    "    'points_precision': 'mean',\n",
    "    'Postpoints_precision': 'mean',\n",
    "    \"PostDQ\": \"mean\",\n",
    "    \"height\": \"mean\",\n",
    "    \"weight\": \"mean\",\n",
    "    \"award_count\": \"mean\",\n",
    "\n",
    "    # Add more columns you want to aggregate here\n",
    "}).reset_index()\n",
    "\n",
    "\n",
    "\n",
    "df_teams = pd.merge(df_teams, agg_players_df, on=['year', 'tmID'], how='left').fillna(0)\n",
    "\n",
    "\n",
    "    "
   ]
  },
  {
   "cell_type": "markdown",
   "metadata": {},
   "source": [
    "Merge team information with coach information"
   ]
  },
  {
   "cell_type": "code",
   "execution_count": 5,
   "metadata": {},
   "outputs": [
    {
     "name": "stdout",
     "output_type": "stream",
     "text": [
      "<class 'pandas.core.frame.DataFrame'>\n",
      "RangeIndex: 162 entries, 0 to 161\n",
      "Data columns (total 10 columns):\n",
      " #   Column       Non-Null Count  Dtype  \n",
      "---  ------       --------------  -----  \n",
      " 0   coachID      162 non-null    object \n",
      " 1   year         162 non-null    int64  \n",
      " 2   tmID         162 non-null    object \n",
      " 3   stint        162 non-null    int64  \n",
      " 4   won          162 non-null    float64\n",
      " 5   lost         162 non-null    float64\n",
      " 6   post_wins    162 non-null    float64\n",
      " 7   post_losses  162 non-null    float64\n",
      " 8   playerID     162 non-null    object \n",
      " 9   award_count  162 non-null    float64\n",
      "dtypes: float64(5), int64(2), object(3)\n",
      "memory usage: 12.8+ KB\n"
     ]
    }
   ],
   "source": [
    "df_coaches_with_awards = pd.merge(df_coaches, df_awards_players, left_on=['coachID', 'year'], right_on=['playerID', 'year'], how='left').fillna(0)\n",
    "df_coaches_with_awards.info()"
   ]
  },
  {
   "cell_type": "code",
   "execution_count": 6,
   "metadata": {},
   "outputs": [
    {
     "name": "stdout",
     "output_type": "stream",
     "text": [
      "<class 'pandas.core.frame.DataFrame'>\n",
      "RangeIndex: 142 entries, 0 to 141\n",
      "Data columns (total 47 columns):\n",
      " #   Column                   Non-Null Count  Dtype  \n",
      "---  ------                   --------------  -----  \n",
      " 0   year                     142 non-null    int64  \n",
      " 1   tmID                     142 non-null    object \n",
      " 2   rank                     142 non-null    float64\n",
      " 3   playoff                  142 non-null    int64  \n",
      " 4   homeW                    142 non-null    float64\n",
      " 5   homeL                    142 non-null    float64\n",
      " 6   awayW                    142 non-null    float64\n",
      " 7   awayL                    142 non-null    float64\n",
      " 8   confW                    142 non-null    float64\n",
      " 9   confL                    142 non-null    float64\n",
      " 10  min                      142 non-null    float64\n",
      " 11  attend                   142 non-null    float64\n",
      " 12  num_playoff_appearances  142 non-null    float64\n",
      " 13  total_first_round_won    142 non-null    float64\n",
      " 14  total_first_round_lost   142 non-null    float64\n",
      " 15  total_semis_won          142 non-null    float64\n",
      " 16  total_semis_lost         142 non-null    float64\n",
      " 17  total_finals_won         142 non-null    float64\n",
      " 18  total_finals_lost        142 non-null    float64\n",
      " 19  mean_won                 142 non-null    float64\n",
      " 20  mean_lost                142 non-null    float64\n",
      " 21  confID_EA                142 non-null    float64\n",
      " 22  confID_WE                142 non-null    float64\n",
      " 23  GP                       142 non-null    float64\n",
      " 24  GS                       142 non-null    float64\n",
      " 25  minutes                  142 non-null    float64\n",
      " 26  oRebounds                142 non-null    float64\n",
      " 27  dRebounds                142 non-null    float64\n",
      " 28  dq                       142 non-null    float64\n",
      " 29  PostGP                   142 non-null    float64\n",
      " 30  PostGS                   142 non-null    float64\n",
      " 31  PostMinutes              142 non-null    float64\n",
      " 32  PostoRebounds            142 non-null    float64\n",
      " 33  PostdRebounds            142 non-null    float64\n",
      " 34  performance              142 non-null    float64\n",
      " 35  Postperformance          142 non-null    float64\n",
      " 36  points_precision         142 non-null    float64\n",
      " 37  Postpoints_precision     142 non-null    float64\n",
      " 38  PostDQ                   142 non-null    float64\n",
      " 39  height                   142 non-null    float64\n",
      " 40  weight                   142 non-null    float64\n",
      " 41  award_count_x            142 non-null    float64\n",
      " 42  won                      142 non-null    float64\n",
      " 43  lost                     142 non-null    float64\n",
      " 44  post_wins                142 non-null    float64\n",
      " 45  post_losses              142 non-null    float64\n",
      " 46  award_count_y            142 non-null    float64\n",
      "dtypes: float64(44), int64(2), object(1)\n",
      "memory usage: 52.3+ KB\n"
     ]
    }
   ],
   "source": [
    "agg_coaches_df = df_coaches_with_awards.groupby([\"year\", \"tmID\"]).agg({\n",
    "    \"won\": \"mean\",\n",
    "    \"lost\": \"mean\",\n",
    "    \"post_wins\": \"mean\",\n",
    "    \"post_losses\": \"mean\",\n",
    "    \"award_count\": \"mean\",\n",
    "}).reset_index()\n",
    "\n",
    "df_teams = pd.merge(df_teams, agg_coaches_df, on=['year', 'tmID'], how='left')\n",
    "df_teams.info()"
   ]
  },
  {
   "cell_type": "code",
   "execution_count": 7,
   "metadata": {},
   "outputs": [],
   "source": [
    "df_teams.to_csv('data_merged.csv', index=False)"
   ]
  }
 ],
 "metadata": {
  "kernelspec": {
   "display_name": "Python 3",
   "language": "python",
   "name": "python3"
  },
  "language_info": {
   "codemirror_mode": {
    "name": "ipython",
    "version": 3
   },
   "file_extension": ".py",
   "mimetype": "text/x-python",
   "name": "python",
   "nbconvert_exporter": "python",
   "pygments_lexer": "ipython3",
   "version": "3.10.11"
  },
  "orig_nbformat": 4
 },
 "nbformat": 4,
 "nbformat_minor": 2
}
